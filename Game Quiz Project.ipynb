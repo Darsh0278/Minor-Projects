{
 "cells": [
  {
   "cell_type": "code",
   "execution_count": 12,
   "id": "b05e1a0b",
   "metadata": {},
   "outputs": [
    {
     "name": "stdout",
     "output_type": "stream",
     "text": [
      "Guess the animal name\n",
      "\n",
      "Which bear lives at the North Pole?\n",
      "POlar Bear\n",
      "Correct Answer\n",
      "\n",
      "Which is the fastest land animal?\n",
      "cheetah\n",
      "Correct Answer\n",
      "\n",
      "Which is the largest animal?\n",
      "Blue WHALE\n",
      "Correct Answer\n",
      "\n",
      "Your score is:  3\n",
      "Congratulations, you have a Perfect Score!!!!\n"
     ]
    }
   ],
   "source": [
    "# Game Quiz : Minor project\n",
    "# Case Study : In this code 3 questions are asked and the user has to guess the answer,which is taken by \n",
    "# user-defined function with guess argument and its real answer, in given three attempts. A final score will be also displayed\n",
    "\n",
    "def check_guess(guess,answer):\n",
    "    global score\n",
    "    attempt = 1\n",
    "    still_guessing = True\n",
    "\n",
    "    while (still_guessing and attempt<=3):\n",
    "        if (guess.lower() == answer.lower()):\n",
    "            print('Correct Answer')\n",
    "            score = score + 1\n",
    "            still_guessing = False\n",
    "        else:\n",
    "            guess = input('Answer is incorrect, try again\\n')\n",
    "            attempt =attempt + 1\n",
    "             \n",
    "            if (attempt==3):\n",
    "                print('Correct Answer is', answer)\n",
    "                break\n",
    "\n",
    "score = 0\n",
    "print('Guess the animal name\\n')\n",
    "\n",
    "guess1 = input('Which bear lives at the North Pole?\\n')\n",
    "check_guess(guess1,'polar bear')\n",
    "\n",
    "guess2 = input('\\nWhich is the fastest land animal?\\n')\n",
    "check_guess(guess2,'cheetah')\n",
    "\n",
    "guess3 = input('\\nWhich is the largest animal?\\n')\n",
    "check_guess(guess3,'blue whale')\n",
    "\n",
    "print('\\nYour score is: ', score)\n",
    "if score == 3:\n",
    "    print('Congratulations, you have a Perfect Score!!!!')"
   ]
  }
 ],
 "metadata": {
  "kernelspec": {
   "display_name": "Python 3 (ipykernel)",
   "language": "python",
   "name": "python3"
  },
  "language_info": {
   "codemirror_mode": {
    "name": "ipython",
    "version": 3
   },
   "file_extension": ".py",
   "mimetype": "text/x-python",
   "name": "python",
   "nbconvert_exporter": "python",
   "pygments_lexer": "ipython3",
   "version": "3.10.9"
  }
 },
 "nbformat": 4,
 "nbformat_minor": 5
}
