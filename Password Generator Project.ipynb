{
 "cells": [
  {
   "cell_type": "code",
   "execution_count": 5,
   "id": "7b444fb4",
   "metadata": {},
   "outputs": [
    {
     "name": "stdout",
     "output_type": "stream",
     "text": [
      "Enter a keyword you want in Password:\n",
      "darsh\n",
      "Enter Length of Password you need:\n",
      "15\n",
      "Enter options you want:\n",
      "1. Digits\n",
      "2. Letters\n",
      "3. Punctuation\n",
      "4. Exit\n",
      "Enter a number: 1\n",
      "Enter a number: 2\n",
      "Enter a number: 4\n",
      "\n",
      "darhsrNTyjTHaI5\n"
     ]
    }
   ],
   "source": [
    "import random\n",
    "import string\n",
    "\n",
    "key = ''\n",
    "keyword = []\n",
    "\n",
    "x = input('Enter a keyword you want in Password:\\n')\n",
    "for i in x:\n",
    "    keyword.append(i)\n",
    "random.shuffle(keyword)\n",
    "ln = int(input('Enter Length of Password you need:\\n'))\n",
    "\n",
    "chList = ''\n",
    "print('Enter options you want:\\n1. Digits\\n2. Letters\\n3. Punctuation\\n4. Exit')\n",
    "while (True):\n",
    "    choice = int(input('Enter a number: '))\n",
    "    if choice == 1:\n",
    "        chList += string.digits\n",
    "    elif choice == 2:\n",
    "        chList += string.ascii_letters\n",
    "    elif choice == 3:\n",
    "        chList += string.punctuation\n",
    "    elif choice == 4:\n",
    "        break\n",
    "    else:\n",
    "        print('Enter valid choice')\n",
    "\n",
    "space = ln - len(keyword)\n",
    "while space!=0 :\n",
    "    key= key + random.choice(chList)\n",
    "    space = space - 1\n",
    "\n",
    "pswd = \"\".join(keyword)\n",
    "pswd = pswd + key\n",
    "print(f'\\n{pswd}')"
   ]
  }
 ],
 "metadata": {
  "kernelspec": {
   "display_name": "Python 3 (ipykernel)",
   "language": "python",
   "name": "python3"
  },
  "language_info": {
   "codemirror_mode": {
    "name": "ipython",
    "version": 3
   },
   "file_extension": ".py",
   "mimetype": "text/x-python",
   "name": "python",
   "nbconvert_exporter": "python",
   "pygments_lexer": "ipython3",
   "version": "3.10.9"
  }
 },
 "nbformat": 4,
 "nbformat_minor": 5
}
